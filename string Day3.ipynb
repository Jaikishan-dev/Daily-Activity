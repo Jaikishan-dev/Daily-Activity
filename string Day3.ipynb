{
 "cells": [
  {
   "cell_type": "code",
   "execution_count": 3,
   "id": "7583ce83-5cf4-4c8f-bbf5-9c82d847a3ff",
   "metadata": {},
   "outputs": [
    {
     "name": "stdout",
     "output_type": "stream",
     "text": [
      "hello, and welcome to my world!\n"
     ]
    }
   ],
   "source": [
    "#case fold \"it will change the first letters of the para\".\n",
    "a= \"Hello, And Welcome To My World!\"\n",
    "b= a.casefold()\n",
    "print(b)"
   ]
  },
  {
   "cell_type": "code",
   "execution_count": 15,
   "id": "04b40f98-6fdc-45f1-947d-f5a2eca145a7",
   "metadata": {},
   "outputs": [
    {
     "name": "stdout",
     "output_type": "stream",
     "text": [
      "    Welcome    \n"
     ]
    }
   ],
   "source": [
    "#center\"this will move to center\n",
    "a= \"Welcome\"\n",
    "b= a.center(15)\n",
    "print(b)\n"
   ]
  },
  {
   "cell_type": "code",
   "execution_count": 21,
   "id": "3159d232-f6cf-43cd-b316-435b7b4bd88d",
   "metadata": {},
   "outputs": [
    {
     "name": "stdout",
     "output_type": "stream",
     "text": [
      "iiiiWelcomeiiii\n"
     ]
    }
   ],
   "source": [
    "a= \"Welcome\"\n",
    "b= a.center(15,\"i\")\n",
    "print(b)\n"
   ]
  },
  {
   "cell_type": "code",
   "execution_count": 23,
   "id": "b31c285d-1538-4034-a5da-627bbd05b116",
   "metadata": {},
   "outputs": [
    {
     "name": "stdout",
     "output_type": "stream",
     "text": [
      "1\n"
     ]
    }
   ],
   "source": [
    "#count\n",
    "a= \"I love apples, apple are my favorite fruit\"\n",
    "b= a.count(\"fruit\")\n",
    "print(b)\n"
   ]
  },
  {
   "cell_type": "code",
   "execution_count": 25,
   "id": "16574ad2-31da-4377-af81-b29004e59c75",
   "metadata": {},
   "outputs": [
    {
     "name": "stdout",
     "output_type": "stream",
     "text": [
      "0\n"
     ]
    }
   ],
   "source": [
    "a= \"I love apples, apple are my favorite fruit\"\n",
    "b= a.count(\"fruit\",13,25)\n",
    "print(b)\n"
   ]
  },
  {
   "cell_type": "code",
   "execution_count": 27,
   "id": "7951eeea-9e09-4664-b53a-777399dd26f2",
   "metadata": {},
   "outputs": [
    {
     "name": "stdout",
     "output_type": "stream",
     "text": [
      "True\n"
     ]
    }
   ],
   "source": [
    "#Endswith \"To check whether it end with a correct values or words\n",
    "a= \"I love apples, apple are my favorite fruit\"\n",
    "b= a.endswith(\"fruit\")\n",
    "print(b)"
   ]
  },
  {
   "cell_type": "code",
   "execution_count": 37,
   "id": "26cd4308-fbd1-4039-9b55-6d1d1708831b",
   "metadata": {},
   "outputs": [
    {
     "name": "stdout",
     "output_type": "stream",
     "text": [
      "False\n"
     ]
    }
   ],
   "source": [
    "a= \"I love apples, apple are my favorite fruit\"\n",
    "b= a.endswith(\"fruit\",2,11)\n",
    "print(b)"
   ]
  },
  {
   "cell_type": "code",
   "execution_count": 39,
   "id": "5aca2d2f-abe5-4c5e-8da7-0b1f1b2ba682",
   "metadata": {},
   "outputs": [
    {
     "name": "stdout",
     "output_type": "stream",
     "text": [
      "True\n"
     ]
    }
   ],
   "source": [
    "a= \"I love apples, apple are my favorite fruit\"\n",
    "b= a.endswith((\"fruit\",\"apple.\"))\n",
    "print(b)"
   ]
  },
  {
   "cell_type": "code",
   "execution_count": 41,
   "id": "d2282a81-b14a-459f-87f5-7ba32d6ab7b4",
   "metadata": {},
   "outputs": [
    {
     "name": "stdout",
     "output_type": "stream",
     "text": [
      "37\n"
     ]
    }
   ],
   "source": [
    "#find()\n",
    "a= \"I love apples, apple are my favorite fruit\"\n",
    "b= a.find(\"fruit\")\n",
    "print(b)"
   ]
  },
  {
   "cell_type": "code",
   "execution_count": 45,
   "id": "c440043b-bb64-4c0f-a54f-4115f58415aa",
   "metadata": {},
   "outputs": [
    {
     "name": "stdout",
     "output_type": "stream",
     "text": [
      "7\n"
     ]
    }
   ],
   "source": [
    "a= \"I love apples, apple are my favorite fruit\"\n",
    "b= a.find(\"a\",5,30)\n",
    "print(b)"
   ]
  },
  {
   "cell_type": "code",
   "execution_count": 47,
   "id": "b9ca26c3-a2b5-441a-bb26-68451d6e84d6",
   "metadata": {},
   "outputs": [
    {
     "name": "stdout",
     "output_type": "stream",
     "text": [
      "False\n"
     ]
    }
   ],
   "source": [
    "#islower\n",
    "a= \"Hello world\"\n",
    "b= a.islower()\n",
    "print(b)"
   ]
  },
  {
   "cell_type": "code",
   "execution_count": 49,
   "id": "9a879710-e307-44b7-91f5-fd77bb77ecc8",
   "metadata": {},
   "outputs": [
    {
     "name": "stdout",
     "output_type": "stream",
     "text": [
      "True\n"
     ]
    }
   ],
   "source": [
    "a= \"hello world\"\n",
    "b= a.islower()\n",
    "print(b)"
   ]
  },
  {
   "cell_type": "code",
   "execution_count": 51,
   "id": "a28aa4e1-ab1e-430c-b8dd-26fb159f7398",
   "metadata": {},
   "outputs": [
    {
     "name": "stdout",
     "output_type": "stream",
     "text": [
      "True\n"
     ]
    }
   ],
   "source": [
    "#isspace\n",
    "a= \"    \"\n",
    "b= a.isspace()\n",
    "print(b)"
   ]
  },
  {
   "cell_type": "code",
   "execution_count": 53,
   "id": "be307d7b-479a-4fa4-9445-cf0f936b661d",
   "metadata": {},
   "outputs": [
    {
     "name": "stdout",
     "output_type": "stream",
     "text": [
      "False\n"
     ]
    }
   ],
   "source": [
    "a= \"  s  \"\n",
    "b= a.isspace()\n",
    "print(b)"
   ]
  },
  {
   "cell_type": "code",
   "execution_count": 59,
   "id": "828a0455-3d9e-44bd-93fd-6bc3e22540fb",
   "metadata": {},
   "outputs": [
    {
     "name": "stdout",
     "output_type": "stream",
     "text": [
      "jai*kishan*ish\n"
     ]
    }
   ],
   "source": [
    "#join\n",
    "a= (\"jai\",\"kishan\",\"ish\")\n",
    "b= \"*\".join(a)\n",
    "print(b)\n"
   ]
  },
  {
   "cell_type": "code",
   "execution_count": 65,
   "id": "52f272f8-0b33-4c71-8047-55997bd35785",
   "metadata": {},
   "outputs": [
    {
     "name": "stdout",
     "output_type": "stream",
     "text": [
      "namego'scountry\n"
     ]
    }
   ],
   "source": [
    "a= {\"name\":\"jai\",\"country\":\"india\"}\n",
    "b=\"go's\"\n",
    "c= b.join(a)\n",
    "print(c)\n"
   ]
  },
  {
   "cell_type": "code",
   "execution_count": 69,
   "id": "71f50670-2252-47de-8a97-a71816ce1f14",
   "metadata": {},
   "outputs": [
    {
     "name": "stdin",
     "output_type": "stream",
     "text": [
      "enter your name Jaikishan\n",
      "enter your place karaikudi\n",
      "enter your age 23\n",
      "enter your degree BCA\n",
      "enter your stream Computer Application \n",
      "enter your father name Perumal\n",
      "enter your phone number 6374228253\n",
      "enter your school name sahayamatha matric hr sec school\n",
      "enter your place karaikudi\n"
     ]
    },
    {
     "name": "stdout",
     "output_type": "stream",
     "text": [
      "i am Jaikishan from karaikudi my age is 23. i completed my degree in BCA in Computer Application . My father name is Perumal. My Mobile number is 6374228253. i completed my schooling in sahayamatha matric hr sec school in karaikudi.\n"
     ]
    }
   ],
   "source": [
    "#format\n",
    "a=input(\"enter your name\")\n",
    "b=input(\"enter your place\")\n",
    "c=input(\"enter your age\")\n",
    "d=input(\"enter your degree\")\n",
    "e=input(\"enter your stream\")\n",
    "f=input(\"enter your father name\")\n",
    "g=input(\"enter your phone number\")\n",
    "h=input(\"enter your school name\")\n",
    "i=input(\"enter your place\")\n",
    "k=f\"i am {a} from {b} my age is {c}. i completed my degree in {d} in {e}. My father name is {f}. My Mobile number is {g}. i completed my schooling in {h} in {i}.\"\n",
    "print(k)\n",
    "\n"
   ]
  },
  {
   "cell_type": "code",
   "execution_count": 71,
   "id": "915995b8-c97d-4bac-b770-13ad4a2baa74",
   "metadata": {},
   "outputs": [
    {
     "name": "stdout",
     "output_type": "stream",
     "text": [
      "('I love ', 'apple', 's, apple are my favorite fruit')\n"
     ]
    }
   ],
   "source": [
    "#partion\n",
    "a= \"I love apples, apple are my favorite fruit\"\n",
    "b= a.partition(\"apple\")\n",
    "print(b)\n"
   ]
  },
  {
   "cell_type": "code",
   "execution_count": 73,
   "id": "de697a2c-58b6-4d2f-82fa-8db9dafdbf4b",
   "metadata": {},
   "outputs": [
    {
     "name": "stdout",
     "output_type": "stream",
     "text": [
      "('I love apples, apple are my favorite fruit', '', '')\n"
     ]
    }
   ],
   "source": [
    "a= \"I love apples, apple are my favorite fruit\"\n",
    "b= a.partition(\"banana\")\n",
    "print(b)"
   ]
  },
  {
   "cell_type": "code",
   "execution_count": 77,
   "id": "7c6300c5-cf94-4db3-b0ee-37bc2f5a2ec4",
   "metadata": {},
   "outputs": [
    {
     "name": "stdout",
     "output_type": "stream",
     "text": [
      "i LOVE APPLES, APPLE ARE MY FAVORITE FRUIT\n"
     ]
    }
   ],
   "source": [
    "#swapcase\n",
    "a= \"I love apples, apple are my favorite fruit\"\n",
    "b= a.swapcase()\n",
    "print(b)"
   ]
  },
  {
   "cell_type": "code",
   "execution_count": 79,
   "id": "bd1359f5-0746-4ae4-abd8-85b43151d04c",
   "metadata": {},
   "outputs": [
    {
     "name": "stdout",
     "output_type": "stream",
     "text": [
      "I LOVE APPLES, APPLE ARE MY FAVORITE FRUIT\n"
     ]
    }
   ],
   "source": [
    "#upper\n",
    "a= \"I love apples, apple are my favorite fruit\"\n",
    "b= a.upper()\n",
    "print(b)"
   ]
  },
  {
   "cell_type": "code",
   "execution_count": 93,
   "id": "f4e49012-0433-482a-bb71-f94e39f17cf1",
   "metadata": {},
   "outputs": [
    {
     "name": "stdout",
     "output_type": "stream",
     "text": [
      "0000000fruit\n",
      "welcome in the jungle\n",
      "00000012.000\n"
     ]
    }
   ],
   "source": [
    "#zfill\n",
    "a=\"fruit\"\n",
    "b=\"welcome in the jungle\"\n",
    "c= \"12.000\"\n",
    "print(a.zfill(12))\n",
    "print(b.zfill(12))\n",
    "print(c.zfill(12))\n"
   ]
  },
  {
   "cell_type": "code",
   "execution_count": null,
   "id": "f09632cd-5b1f-479d-aad3-5ef252d4712b",
   "metadata": {},
   "outputs": [],
   "source": []
  }
 ],
 "metadata": {
  "kernelspec": {
   "display_name": "Python [conda env:base] *",
   "language": "python",
   "name": "conda-base-py"
  },
  "language_info": {
   "codemirror_mode": {
    "name": "ipython",
    "version": 3
   },
   "file_extension": ".py",
   "mimetype": "text/x-python",
   "name": "python",
   "nbconvert_exporter": "python",
   "pygments_lexer": "ipython3",
   "version": "3.12.7"
  }
 },
 "nbformat": 4,
 "nbformat_minor": 5
}
