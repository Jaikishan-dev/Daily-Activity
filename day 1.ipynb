{
 "cells": [
  {
   "cell_type": "code",
   "execution_count": 19,
   "id": "92d24de6-5760-4411-bb7d-93dae93333b8",
   "metadata": {},
   "outputs": [
    {
     "name": "stdout",
     "output_type": "stream",
     "text": [
      "10 10.0 (10+0j) "
     ]
    }
   ],
   "source": [
    "k=10\n",
    "i=(str(k))\n",
    "a=(float(k))\n",
    "b=(complex(k))\n",
    "print(i,a,b)\n"
   ]
  },
  {
   "cell_type": "code",
   "execution_count": 44,
   "id": "e0ecc648-4556-432b-8850-816445b6a86b",
   "metadata": {},
   "outputs": [
    {
     "ename": "ValueError",
     "evalue": "complex() arg is a malformed string",
     "output_type": "error",
     "traceback": [
      "\u001b[1;31m---------------------------------------------------------------------------\u001b[0m",
      "\u001b[1;31mValueError\u001b[0m                                Traceback (most recent call last)",
      "Cell \u001b[1;32mIn[44], line 2\u001b[0m\n\u001b[0;32m      1\u001b[0m s\u001b[38;5;241m=\u001b[39m\u001b[38;5;124m\"\u001b[39m\u001b[38;5;124mHi\u001b[39m\u001b[38;5;124m\"\u001b[39m\n\u001b[1;32m----> 2\u001b[0m b\u001b[38;5;241m=\u001b[39m(\u001b[38;5;28mcomplex\u001b[39m(s))\n\u001b[0;32m      3\u001b[0m \u001b[38;5;28mprint\u001b[39m(i,a,b)\n",
      "\u001b[1;31mValueError\u001b[0m: complex() arg is a malformed string"
     ]
    }
   ],
   "source": [
    "s=\"Hi\"\n",
    "i=(float(s))\n",
    "a=(int(s))\n",
    "b=(complex(s))\n",
    "print(i,a,b)\n"
   ]
  },
  {
   "cell_type": "code",
   "execution_count": 32,
   "id": "0505b80e-e5b4-4f9c-97b3-e53e36df1151",
   "metadata": {},
   "outputs": [
    {
     "name": "stdout",
     "output_type": "stream",
     "text": [
      "1.0 1 (1+0j)\n"
     ]
    }
   ],
   "source": [
    "f=1.0\n",
    "i=(str(f))\n",
    "a=(int(f))\n",
    "b=(complex(f))\n",
    "print(i,a,b)"
   ]
  },
  {
   "cell_type": "code",
   "execution_count": 34,
   "id": "518f1067-5cad-43c4-8442-da7bdf72b8dc",
   "metadata": {},
   "outputs": [
    {
     "ename": "TypeError",
     "evalue": "int() argument must be a string, a bytes-like object or a real number, not 'complex'",
     "output_type": "error",
     "traceback": [
      "\u001b[1;31m---------------------------------------------------------------------------\u001b[0m",
      "\u001b[1;31mTypeError\u001b[0m                                 Traceback (most recent call last)",
      "Cell \u001b[1;32mIn[34], line 3\u001b[0m\n\u001b[0;32m      1\u001b[0m c\u001b[38;5;241m=\u001b[39m\u001b[38;5;241m1\u001b[39m\u001b[38;5;241m+\u001b[39m\u001b[38;5;241m2\u001b[39mj\n\u001b[0;32m      2\u001b[0m i\u001b[38;5;241m=\u001b[39m(\u001b[38;5;28mstr\u001b[39m(c))\n\u001b[1;32m----> 3\u001b[0m a\u001b[38;5;241m=\u001b[39m(\u001b[38;5;28mint\u001b[39m(c))\n\u001b[0;32m      4\u001b[0m b\u001b[38;5;241m=\u001b[39m(\u001b[38;5;28mfloat\u001b[39m(c))\n\u001b[0;32m      5\u001b[0m \u001b[38;5;28mprint\u001b[39m(i,a,b)\n",
      "\u001b[1;31mTypeError\u001b[0m: int() argument must be a string, a bytes-like object or a real number, not 'complex'"
     ]
    }
   ],
   "source": [
    "c=1+2j\n",
    "i=(str(c))\n",
    "a=(int(c))\n",
    "b=(float(c))\n",
    "print(i,a,b)"
   ]
  },
  {
   "cell_type": "code",
   "execution_count": null,
   "id": "d5612a36-ed70-45ce-bc55-42a09e6aaa94",
   "metadata": {},
   "outputs": [],
   "source": []
  },
  {
   "cell_type": "code",
   "execution_count": null,
   "id": "47b8754f-758a-4efa-815e-4e4ab2b31ecb",
   "metadata": {},
   "outputs": [],
   "source": []
  }
 ],
 "metadata": {
  "kernelspec": {
   "display_name": "Python [conda env:base] *",
   "language": "python",
   "name": "conda-base-py"
  },
  "language_info": {
   "codemirror_mode": {
    "name": "ipython",
    "version": 3
   },
   "file_extension": ".py",
   "mimetype": "text/x-python",
   "name": "python",
   "nbconvert_exporter": "python",
   "pygments_lexer": "ipython3",
   "version": "3.12.7"
  }
 },
 "nbformat": 4,
 "nbformat_minor": 5
}
