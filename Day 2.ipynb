{
 "cells": [
  {
   "cell_type": "code",
   "execution_count": 1,
   "id": "661bfe59-06ca-4a2c-97f2-2a5c6e27158f",
   "metadata": {},
   "outputs": [
    {
     "name": "stdout",
     "output_type": "stream",
     "text": [
      "67\n"
     ]
    }
   ],
   "source": [
    "#indexing\n",
    "k=(23,45,67,78,98,12)\n",
    "i=(k[2])\n",
    "print(i)"
   ]
  },
  {
   "cell_type": "code",
   "execution_count": 5,
   "id": "a74a043c-f967-4bd8-8aee-d4b01f1e8ae6",
   "metadata": {},
   "outputs": [
    {
     "name": "stdout",
     "output_type": "stream",
     "text": [
      "78\n"
     ]
    }
   ],
   "source": [
    "#indexing\n",
    "k=(23,45,67,78,98,12)\n",
    "i=(k[-3])\n",
    "print(i)"
   ]
  },
  {
   "cell_type": "code",
   "execution_count": 15,
   "id": "73059f77-fb78-44e7-84e6-649c5acf635b",
   "metadata": {},
   "outputs": [
    {
     "name": "stdout",
     "output_type": "stream",
     "text": [
      "L\n"
     ]
    }
   ],
   "source": [
    "#indexing\n",
    "k=\"Modern Language is python\"\n",
    "l=(k[7])\n",
    "print(l)\n"
   ]
  },
  {
   "cell_type": "code",
   "execution_count": 17,
   "id": "9bac5bc8-836a-41d7-ac06-84af387ed1ac",
   "metadata": {},
   "outputs": [
    {
     "name": "stdout",
     "output_type": "stream",
     "text": [
      "i\n"
     ]
    }
   ],
   "source": [
    "#indexing\n",
    "k=\"Modern Language is python\"\n",
    "l=(k[-9])\n",
    "print(l)\n"
   ]
  },
  {
   "cell_type": "code",
   "execution_count": 28,
   "id": "34a79729-deeb-478c-8931-ad30a240f0ce",
   "metadata": {},
   "outputs": [
    {
     "name": "stdout",
     "output_type": "stream",
     "text": [
      "licing\n"
     ]
    }
   ],
   "source": [
    "#slicing\n",
    "k=\"Slicing is the process of accessing a sub-sequence of a sequence\"\n",
    "l=(k[1:7])\n",
    "print(l)\n"
   ]
  },
  {
   "cell_type": "code",
   "execution_count": 34,
   "id": "cb44346b-a486-4ce3-be42-5ef88f4f4526",
   "metadata": {},
   "outputs": [
    {
     "name": "stdout",
     "output_type": "stream",
     "text": [
      "f a sequenc\n"
     ]
    }
   ],
   "source": [
    "#slicing\n",
    "k=\"Slicing is the process of accessing a sub-sequence of a sequence\"\n",
    "l=(k[-12:-1])\n",
    "print(l)"
   ]
  },
  {
   "cell_type": "code",
   "execution_count": 36,
   "id": "88383c94-caec-4c4a-b23f-9960133652f6",
   "metadata": {},
   "outputs": [
    {
     "name": "stdout",
     "output_type": "stream",
     "text": [
      "licing to extract a range of characters\n"
     ]
    }
   ],
   "source": [
    "k=\"slicing to extract a range of characters\"\n",
    "l=(k[1:])\n",
    "print(l)"
   ]
  },
  {
   "cell_type": "code",
   "execution_count": 38,
   "id": "564038f8-1a96-4401-adcc-d17023da73f4",
   "metadata": {},
   "outputs": [
    {
     "name": "stdout",
     "output_type": "stream",
     "text": [
      "slici\n"
     ]
    }
   ],
   "source": [
    "k=\"slicing to extract a range of characters\"\n",
    "l=(k[:5])\n",
    "print(l)"
   ]
  },
  {
   "cell_type": "code",
   "execution_count": 3,
   "id": "43eb0d45-08b6-4484-9b36-0b94b3c8a30e",
   "metadata": {},
   "outputs": [
    {
     "name": "stdout",
     "output_type": "stream",
     "text": [
      "<built-in method translate of str object at 0x000001229C3BDE90>\n"
     ]
    }
   ],
   "source": []
  },
  {
   "cell_type": "code",
   "execution_count": null,
   "id": "5d689c78-0a5c-481b-8cdf-8202bace229a",
   "metadata": {},
   "outputs": [],
   "source": []
  }
 ],
 "metadata": {
  "kernelspec": {
   "display_name": "Python [conda env:base] *",
   "language": "python",
   "name": "conda-base-py"
  },
  "language_info": {
   "codemirror_mode": {
    "name": "ipython",
    "version": 3
   },
   "file_extension": ".py",
   "mimetype": "text/x-python",
   "name": "python",
   "nbconvert_exporter": "python",
   "pygments_lexer": "ipython3",
   "version": "3.12.7"
  }
 },
 "nbformat": 4,
 "nbformat_minor": 5
}
